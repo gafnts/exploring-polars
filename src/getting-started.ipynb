{
 "cells": [
  {
   "cell_type": "markdown",
   "id": "eb70a9ab",
   "metadata": {},
   "source": [
    "# Getting started"
   ]
  },
  {
   "cell_type": "code",
   "execution_count": 33,
   "id": "4162d2f0",
   "metadata": {},
   "outputs": [],
   "source": [
    "import polars as pl\n",
    "import datetime as dt\n",
    "from pathlib import Path\n",
    "\n",
    "\n",
    "path = Path.cwd() / \"static\" / \"data.csv\"\n",
    "path.parent.mkdir(exist_ok=True)"
   ]
  },
  {
   "cell_type": "code",
   "execution_count": null,
   "id": "d247964c",
   "metadata": {},
   "outputs": [],
   "source": [
    "df = pl.DataFrame(\n",
    "    {\n",
    "        \"name\": [\"Alice Archer\", \"Ben Brown\", \"Chloe Cooper\", \"Daniel Donovan\"],\n",
    "        \"birthdate\": [\n",
    "            dt.date(1997, 1, 10),\n",
    "            dt.date(1985, 2, 15),\n",
    "            dt.date(1983, 3, 22),\n",
    "            dt.date(1981, 4, 30),\n",
    "        ],\n",
    "        \"weight\": [57.9, 72.5, 53.6, 83.1],\n",
    "        \"height\": [1.56, 1.77, 1.65, 1.75],\n",
    "    }\n",
    ")\n",
    "\n",
    "df.write_csv(path)\n",
    "\n",
    "df_csv = pl.read_csv(path, try_parse_dates=True)"
   ]
  },
  {
   "cell_type": "markdown",
   "id": "a8408acb",
   "metadata": {},
   "source": [
    "## Selecting"
   ]
  },
  {
   "cell_type": "code",
   "execution_count": 38,
   "id": "e59f2d2c",
   "metadata": {},
   "outputs": [
    {
     "data": {
      "text/html": [
       "<div><style>\n",
       ".dataframe > thead > tr,\n",
       ".dataframe > tbody > tr {\n",
       "  text-align: right;\n",
       "  white-space: pre-wrap;\n",
       "}\n",
       "</style>\n",
       "<small>shape: (4, 4)</small><table border=\"1\" class=\"dataframe\"><thead><tr><th>name</th><th>weight</th><th>height</th><th>birthdate</th></tr><tr><td>str</td><td>f64</td><td>f64</td><td>date</td></tr></thead><tbody><tr><td>&quot;Alice Archer&quot;</td><td>57.9</td><td>1.56</td><td>1997-01-10</td></tr><tr><td>&quot;Ben Brown&quot;</td><td>72.5</td><td>1.77</td><td>1985-02-15</td></tr><tr><td>&quot;Chloe Cooper&quot;</td><td>53.6</td><td>1.65</td><td>1983-03-22</td></tr><tr><td>&quot;Daniel Donovan&quot;</td><td>83.1</td><td>1.75</td><td>1981-04-30</td></tr></tbody></table></div>"
      ],
      "text/plain": [
       "shape: (4, 4)\n",
       "┌────────────────┬────────┬────────┬────────────┐\n",
       "│ name           ┆ weight ┆ height ┆ birthdate  │\n",
       "│ ---            ┆ ---    ┆ ---    ┆ ---        │\n",
       "│ str            ┆ f64    ┆ f64    ┆ date       │\n",
       "╞════════════════╪════════╪════════╪════════════╡\n",
       "│ Alice Archer   ┆ 57.9   ┆ 1.56   ┆ 1997-01-10 │\n",
       "│ Ben Brown      ┆ 72.5   ┆ 1.77   ┆ 1985-02-15 │\n",
       "│ Chloe Cooper   ┆ 53.6   ┆ 1.65   ┆ 1983-03-22 │\n",
       "│ Daniel Donovan ┆ 83.1   ┆ 1.75   ┆ 1981-04-30 │\n",
       "└────────────────┴────────┴────────┴────────────┘"
      ]
     },
     "execution_count": 38,
     "metadata": {},
     "output_type": "execute_result"
    }
   ],
   "source": [
    "df_selected = (\n",
    "    df\n",
    "    .select([\"name\", \"weight\", \"height\", \"birthdate\"])\n",
    ")\n",
    "\n",
    "df_selected"
   ]
  },
  {
   "cell_type": "markdown",
   "id": "4a804d94",
   "metadata": {},
   "source": [
    "## Mutating"
   ]
  },
  {
   "cell_type": "code",
   "execution_count": 36,
   "id": "fed8d0fd",
   "metadata": {},
   "outputs": [
    {
     "data": {
      "text/html": [
       "<div><style>\n",
       ".dataframe > thead > tr,\n",
       ".dataframe > tbody > tr {\n",
       "  text-align: right;\n",
       "  white-space: pre-wrap;\n",
       "}\n",
       "</style>\n",
       "<small>shape: (4, 6)</small><table border=\"1\" class=\"dataframe\"><thead><tr><th>name</th><th>birthdate</th><th>weight</th><th>height</th><th>birth_year</th><th>bmi</th></tr><tr><td>str</td><td>date</td><td>f64</td><td>f64</td><td>i32</td><td>f64</td></tr></thead><tbody><tr><td>&quot;Alice Archer&quot;</td><td>1997-01-10</td><td>57.9</td><td>1.56</td><td>1997</td><td>23.8</td></tr><tr><td>&quot;Ben Brown&quot;</td><td>1985-02-15</td><td>72.5</td><td>1.77</td><td>1985</td><td>23.1</td></tr><tr><td>&quot;Chloe Cooper&quot;</td><td>1983-03-22</td><td>53.6</td><td>1.65</td><td>1983</td><td>19.7</td></tr><tr><td>&quot;Daniel Donovan&quot;</td><td>1981-04-30</td><td>83.1</td><td>1.75</td><td>1981</td><td>27.1</td></tr></tbody></table></div>"
      ],
      "text/plain": [
       "shape: (4, 6)\n",
       "┌────────────────┬────────────┬────────┬────────┬────────────┬──────┐\n",
       "│ name           ┆ birthdate  ┆ weight ┆ height ┆ birth_year ┆ bmi  │\n",
       "│ ---            ┆ ---        ┆ ---    ┆ ---    ┆ ---        ┆ ---  │\n",
       "│ str            ┆ date       ┆ f64    ┆ f64    ┆ i32        ┆ f64  │\n",
       "╞════════════════╪════════════╪════════╪════════╪════════════╪══════╡\n",
       "│ Alice Archer   ┆ 1997-01-10 ┆ 57.9   ┆ 1.56   ┆ 1997       ┆ 23.8 │\n",
       "│ Ben Brown      ┆ 1985-02-15 ┆ 72.5   ┆ 1.77   ┆ 1985       ┆ 23.1 │\n",
       "│ Chloe Cooper   ┆ 1983-03-22 ┆ 53.6   ┆ 1.65   ┆ 1983       ┆ 19.7 │\n",
       "│ Daniel Donovan ┆ 1981-04-30 ┆ 83.1   ┆ 1.75   ┆ 1981       ┆ 27.1 │\n",
       "└────────────────┴────────────┴────────┴────────┴────────────┴──────┘"
      ]
     },
     "execution_count": 36,
     "metadata": {},
     "output_type": "execute_result"
    }
   ],
   "source": [
    "df_mutated = (\n",
    "    df\n",
    "    .with_columns(\n",
    "        birth_year = pl.col(\"birthdate\").dt.year(),\n",
    "        bmi = (pl.col(\"weight\") / pl.col(\"height\")**2).round(1)\n",
    "    )\n",
    ")\n",
    "\n",
    "df_mutated"
   ]
  },
  {
   "cell_type": "markdown",
   "id": "f2f54657",
   "metadata": {},
   "source": [
    "## Filtering"
   ]
  },
  {
   "cell_type": "code",
   "execution_count": 37,
   "id": "172e086a",
   "metadata": {},
   "outputs": [
    {
     "data": {
      "text/html": [
       "<div><style>\n",
       ".dataframe > thead > tr,\n",
       ".dataframe > tbody > tr {\n",
       "  text-align: right;\n",
       "  white-space: pre-wrap;\n",
       "}\n",
       "</style>\n",
       "<small>shape: (1, 4)</small><table border=\"1\" class=\"dataframe\"><thead><tr><th>name</th><th>birthdate</th><th>weight</th><th>height</th></tr><tr><td>str</td><td>date</td><td>f64</td><td>f64</td></tr></thead><tbody><tr><td>&quot;Chloe Cooper&quot;</td><td>1983-03-22</td><td>53.6</td><td>1.65</td></tr></tbody></table></div>"
      ],
      "text/plain": [
       "shape: (1, 4)\n",
       "┌──────────────┬────────────┬────────┬────────┐\n",
       "│ name         ┆ birthdate  ┆ weight ┆ height │\n",
       "│ ---          ┆ ---        ┆ ---    ┆ ---    │\n",
       "│ str          ┆ date       ┆ f64    ┆ f64    │\n",
       "╞══════════════╪════════════╪════════╪════════╡\n",
       "│ Chloe Cooper ┆ 1983-03-22 ┆ 53.6   ┆ 1.65   │\n",
       "└──────────────┴────────────┴────────┴────────┘"
      ]
     },
     "execution_count": 37,
     "metadata": {},
     "output_type": "execute_result"
    }
   ],
   "source": [
    "df_filtered = (\n",
    "    df\n",
    "    .filter(pl.col(\"birthdate\").dt.month() == 3)\n",
    ")\n",
    "\n",
    "df_filtered"
   ]
  },
  {
   "cell_type": "markdown",
   "id": "182b8ace",
   "metadata": {},
   "source": [
    "## Grouping"
   ]
  },
  {
   "cell_type": "code",
   "execution_count": 44,
   "id": "e8f9cfac",
   "metadata": {},
   "outputs": [
    {
     "data": {
      "text/html": [
       "<div><style>\n",
       ".dataframe > thead > tr,\n",
       ".dataframe > tbody > tr {\n",
       "  text-align: right;\n",
       "  white-space: pre-wrap;\n",
       "}\n",
       "</style>\n",
       "<small>shape: (2, 4)</small><table border=\"1\" class=\"dataframe\"><thead><tr><th>decate</th><th>sample_size</th><th>average_weight</th><th>tallest</th></tr><tr><td>i32</td><td>u32</td><td>f64</td><td>f64</td></tr></thead><tbody><tr><td>1990</td><td>1</td><td>57.9</td><td>1.56</td></tr><tr><td>1980</td><td>3</td><td>69.73</td><td>1.77</td></tr></tbody></table></div>"
      ],
      "text/plain": [
       "shape: (2, 4)\n",
       "┌────────┬─────────────┬────────────────┬─────────┐\n",
       "│ decate ┆ sample_size ┆ average_weight ┆ tallest │\n",
       "│ ---    ┆ ---         ┆ ---            ┆ ---     │\n",
       "│ i32    ┆ u32         ┆ f64            ┆ f64     │\n",
       "╞════════╪═════════════╪════════════════╪═════════╡\n",
       "│ 1990   ┆ 1           ┆ 57.9           ┆ 1.56    │\n",
       "│ 1980   ┆ 3           ┆ 69.73          ┆ 1.77    │\n",
       "└────────┴─────────────┴────────────────┴─────────┘"
      ]
     },
     "execution_count": 44,
     "metadata": {},
     "output_type": "execute_result"
    }
   ],
   "source": [
    "df_grouped = (\n",
    "    df\n",
    "    .group_by(\n",
    "        decate = pl.col(\"birthdate\").dt.year() // 10 * 10\n",
    "    )\n",
    "    .agg(\n",
    "        sample_size = pl.len(),\n",
    "        average_weight = pl.col(\"weight\").mean().round(2),\n",
    "        tallest = pl.col(\"height\").max()\n",
    "    )\n",
    ")\n",
    "\n",
    "df_grouped"
   ]
  },
  {
   "cell_type": "code",
   "execution_count": null,
   "id": "74665176",
   "metadata": {},
   "outputs": [],
   "source": [
    "df_grouped = (\n",
    "    df\n",
    "    .group_by(\n",
    "        decate = pl.col(\"birthdate\").dt.year() // 10 * 10\n",
    "    )\n",
    ")\n",
    "\n",
    "df_grouped"
   ]
  },
  {
   "cell_type": "markdown",
   "id": "9d26eff8",
   "metadata": {},
   "source": [
    "## Combining"
   ]
  },
  {
   "cell_type": "code",
   "execution_count": null,
   "id": "633fbebc",
   "metadata": {},
   "outputs": [],
   "source": []
  },
  {
   "cell_type": "markdown",
   "id": "5068070b",
   "metadata": {},
   "source": [
    "## More complex operations"
   ]
  },
  {
   "cell_type": "code",
   "execution_count": null,
   "id": "8caca3f9",
   "metadata": {},
   "outputs": [],
   "source": []
  }
 ],
 "metadata": {
  "kernelspec": {
   "display_name": "exploring-polars-py3.13",
   "language": "python",
   "name": "python3"
  },
  "language_info": {
   "codemirror_mode": {
    "name": "ipython",
    "version": 3
   },
   "file_extension": ".py",
   "mimetype": "text/x-python",
   "name": "python",
   "nbconvert_exporter": "python",
   "pygments_lexer": "ipython3",
   "version": "3.13.3"
  }
 },
 "nbformat": 4,
 "nbformat_minor": 5
}
