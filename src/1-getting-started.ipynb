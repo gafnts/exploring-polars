{
 "cells": [
  {
   "cell_type": "markdown",
   "id": "eb70a9ab",
   "metadata": {},
   "source": [
    "# Getting started"
   ]
  },
  {
   "cell_type": "code",
   "execution_count": null,
   "id": "4162d2f0",
   "metadata": {},
   "outputs": [],
   "source": [
    "import polars as pl\n",
    "import datetime as dt\n",
    "from pathlib import Path\n",
    "\n",
    "\n",
    "path = Path.cwd() / \"static\" / \"data.csv\"\n",
    "path.parent.mkdir(exist_ok=True)"
   ]
  },
  {
   "cell_type": "markdown",
   "id": "2343e746",
   "metadata": {},
   "source": [
    "## DataFrame operations"
   ]
  },
  {
   "cell_type": "code",
   "execution_count": null,
   "id": "d247964c",
   "metadata": {},
   "outputs": [],
   "source": [
    "df = pl.DataFrame(\n",
    "    {\n",
    "        \"name\": [\"Alice Archer\", \"Ben Brown\", \"Chloe Cooper\", \"Daniel Donovan\"],\n",
    "        \"birthdate\": [\n",
    "            dt.date(1997, 1, 10),\n",
    "            dt.date(1985, 2, 15),\n",
    "            dt.date(1983, 3, 22),\n",
    "            dt.date(1981, 4, 30),\n",
    "        ],\n",
    "        \"weight\": [57.9, 72.5, 53.6, 83.1],\n",
    "        \"height\": [1.56, 1.77, 1.65, 1.75],\n",
    "    }\n",
    ")\n",
    "\n",
    "df.write_csv(path)\n",
    "\n",
    "df_csv = pl.read_csv(path, try_parse_dates=True)"
   ]
  },
  {
   "cell_type": "markdown",
   "id": "a8408acb",
   "metadata": {},
   "source": [
    "## Selecting"
   ]
  },
  {
   "cell_type": "code",
   "execution_count": null,
   "id": "e59f2d2c",
   "metadata": {},
   "outputs": [],
   "source": [
    "df_selected = df.select([\"name\", \"weight\", \"height\", \"birthdate\"])\n",
    "\n",
    "df_selected"
   ]
  },
  {
   "cell_type": "markdown",
   "id": "4a804d94",
   "metadata": {},
   "source": [
    "## Mutating"
   ]
  },
  {
   "cell_type": "code",
   "execution_count": null,
   "id": "fed8d0fd",
   "metadata": {},
   "outputs": [],
   "source": [
    "df_mutated = df.with_columns(\n",
    "    birth_year=pl.col(\"birthdate\").dt.year(),\n",
    "    bmi=(pl.col(\"weight\") / pl.col(\"height\") ** 2).round(1),\n",
    ")\n",
    "\n",
    "df_mutated"
   ]
  },
  {
   "cell_type": "markdown",
   "id": "f2f54657",
   "metadata": {},
   "source": [
    "## Filtering"
   ]
  },
  {
   "cell_type": "code",
   "execution_count": null,
   "id": "172e086a",
   "metadata": {},
   "outputs": [],
   "source": [
    "df_filtered = df.filter(pl.col(\"birthdate\").dt.month() == 3)\n",
    "\n",
    "df_filtered"
   ]
  },
  {
   "cell_type": "markdown",
   "id": "182b8ace",
   "metadata": {},
   "source": [
    "## Grouping"
   ]
  },
  {
   "cell_type": "code",
   "execution_count": null,
   "id": "e8f9cfac",
   "metadata": {},
   "outputs": [],
   "source": [
    "df_grouped = df.group_by(decade=pl.col(\"birthdate\").dt.year() // 10 * 10).agg(\n",
    "    sample_size=pl.len(),\n",
    "    average_weight=pl.col(\"weight\").mean().round(2),\n",
    "    tallest=pl.col(\"height\").max(),\n",
    ")\n",
    "\n",
    "df_grouped"
   ]
  },
  {
   "cell_type": "code",
   "execution_count": null,
   "id": "3a9e6961",
   "metadata": {},
   "outputs": [],
   "source": [
    "df_complex = (\n",
    "    df.with_columns(\n",
    "        (pl.col(\"birthdate\").dt.year() // 10 * 10).alias(\"decade\"),\n",
    "        pl.col(\"name\").str.split(by=\" \").list.first(),\n",
    "    )\n",
    "    .select(\n",
    "        pl.all().exclude(\"birthdate\"),\n",
    "    )\n",
    "    .group_by(\n",
    "        pl.col(\"decade\"),\n",
    "        maintain_order=True,\n",
    "    )\n",
    "    .agg(\n",
    "        pl.col(\"name\"),\n",
    "        pl.col(\"weight\", \"height\").mean().round(2).name.prefix(\"avg_\"),\n",
    "    )\n",
    ")\n",
    "\n",
    "df_complex"
   ]
  },
  {
   "cell_type": "markdown",
   "id": "9d26eff8",
   "metadata": {},
   "source": [
    "## Combining\n",
    "\n",
    "### Joining"
   ]
  },
  {
   "cell_type": "code",
   "execution_count": null,
   "id": "633fbebc",
   "metadata": {},
   "outputs": [],
   "source": [
    "df_new = pl.DataFrame(\n",
    "    {\n",
    "        \"name\": [\"Ben Brown\", \"Daniel Donovan\", \"Alice Archer\", \"Chloe Cooper\"],\n",
    "        \"parent\": [True, False, False, False],\n",
    "        \"siblings\": [1, 2, 3, 4],\n",
    "    }\n",
    ")\n",
    "\n",
    "df_new"
   ]
  },
  {
   "cell_type": "code",
   "execution_count": null,
   "id": "3c851ae1",
   "metadata": {},
   "outputs": [],
   "source": [
    "df.join(df_new, on=\"name\", how=\"left\")"
   ]
  },
  {
   "cell_type": "markdown",
   "id": "662208e7",
   "metadata": {},
   "source": [
    "### Concatenating"
   ]
  },
  {
   "cell_type": "code",
   "execution_count": null,
   "id": "8caca3f9",
   "metadata": {},
   "outputs": [],
   "source": [
    "df_new = pl.DataFrame(\n",
    "    {\n",
    "        \"name\": [\"Ethan Edwards\", \"Fiona Foster\", \"Grace Gibson\", \"Henry Harris\"],\n",
    "        \"birthdate\": [\n",
    "            dt.date(1977, 5, 10),\n",
    "            dt.date(1975, 6, 23),\n",
    "            dt.date(1973, 7, 22),\n",
    "            dt.date(1971, 8, 3),\n",
    "        ],\n",
    "        \"weight\": [67.9, 72.5, 57.6, 93.1],\n",
    "        \"height\": [1.76, 1.6, 1.66, 1.8],\n",
    "    }\n",
    ")\n",
    "\n",
    "df_new"
   ]
  },
  {
   "cell_type": "code",
   "execution_count": null,
   "id": "f0a0267c",
   "metadata": {},
   "outputs": [],
   "source": [
    "pl.concat([df, df_new], how=\"vertical\")"
   ]
  },
  {
   "cell_type": "code",
   "execution_count": null,
   "id": "7c2e401d",
   "metadata": {},
   "outputs": [],
   "source": []
  }
 ],
 "metadata": {
  "kernelspec": {
   "display_name": "exploring-polars-py3.13",
   "language": "python",
   "name": "python3"
  },
  "language_info": {
   "codemirror_mode": {
    "name": "ipython",
    "version": 3
   },
   "file_extension": ".py",
   "mimetype": "text/x-python",
   "name": "python",
   "nbconvert_exporter": "python",
   "pygments_lexer": "ipython3",
   "version": "3.13.3"
  }
 },
 "nbformat": 4,
 "nbformat_minor": 5
}
